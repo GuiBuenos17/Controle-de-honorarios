{
  "cells": [
    {
      "cell_type": "code",
      "execution_count": 1,
      "metadata": {
        "id": "syHLaJEO-Fjp"
      },
      "outputs": [],
      "source": [
        "# importanto as bibliotecas\n",
        "import numpy as np\n",
        "import pandas as pd\n",
        "import matplotlib.pyplot as plt\n",
        "import seaborn as sb\n",
        "from scipy import stats"
      ]
    },
    {
      "cell_type": "code",
      "execution_count": null,
      "metadata": {
        "colab": {
          "base_uri": "https://localhost:8080/",
          "height": 321
        },
        "id": "xD382Ppw-Fjq",
        "outputId": "8a9bc5cb-ad9f-4aa9-a82a-6cc879a56b9e"
      },
      "outputs": [],
      "source": [
        "# lendo a base de dados\n",
        "base = pd.read_csv('base.csv', delimiter=';', skipinitialspace=True, encoding='latin1')\n",
        "#base = pd.read_csv(r'base.csv', sep=';')\n",
        "\n",
        "print(\"Total number of transactions: \"+ str(base.shape[0]))\n",
        "base.head(5)"
      ]
    },
    {
      "cell_type": "code",
      "execution_count": null,
      "metadata": {},
      "outputs": [],
      "source": [
        "nan_count = base.isna().sum().sum()\n",
        "print(f\"Quantidade de valores NaN: {nan_count}\")"
      ]
    },
    {
      "cell_type": "code",
      "execution_count": 4,
      "metadata": {},
      "outputs": [],
      "source": [
        "df_numeric = base.apply(pd.to_numeric, errors='coerce')"
      ]
    },
    {
      "cell_type": "code",
      "execution_count": 7,
      "metadata": {},
      "outputs": [],
      "source": [
        "base.columns = base.columns.str.strip()"
      ]
    },
    {
      "cell_type": "code",
      "execution_count": null,
      "metadata": {},
      "outputs": [],
      "source": [
        "base['VALOR DO ACORDO']"
      ]
    },
    {
      "cell_type": "code",
      "execution_count": 9,
      "metadata": {},
      "outputs": [],
      "source": [
        "valores_acordo = base['VALOR DO ACORDO'].str.replace('R$ ', '').str.replace('.', '').str.replace(',', '.')"
      ]
    },
    {
      "cell_type": "code",
      "execution_count": null,
      "metadata": {},
      "outputs": [],
      "source": [
        "valores_acordo"
      ]
    },
    {
      "cell_type": "code",
      "execution_count": 11,
      "metadata": {},
      "outputs": [],
      "source": [
        "base['VALOR DO ACORDO'] = valores_acordo = base['VALOR DO ACORDO'].str.replace('R$ ', '').str.replace('.', '').str.replace(',', '.')"
      ]
    },
    {
      "cell_type": "code",
      "execution_count": null,
      "metadata": {},
      "outputs": [],
      "source": [
        "base['VALOR DO ACORDO']"
      ]
    },
    {
      "cell_type": "code",
      "execution_count": 13,
      "metadata": {},
      "outputs": [],
      "source": [
        "tipo_vlracordo = base['VALOR DO ACORDO'].astype(float)"
      ]
    },
    {
      "cell_type": "code",
      "execution_count": null,
      "metadata": {},
      "outputs": [],
      "source": [
        "tipo_vlracordo"
      ]
    },
    {
      "cell_type": "code",
      "execution_count": 15,
      "metadata": {},
      "outputs": [],
      "source": [
        "base['VALOR DO ACORDO'] = base['VALOR DO ACORDO'].astype(float)"
      ]
    },
    {
      "cell_type": "code",
      "execution_count": null,
      "metadata": {},
      "outputs": [],
      "source": [
        "base.info()"
      ]
    },
    {
      "cell_type": "code",
      "execution_count": 17,
      "metadata": {},
      "outputs": [],
      "source": [
        "ag_nan = base['AG'].fillna(0)"
      ]
    },
    {
      "cell_type": "code",
      "execution_count": null,
      "metadata": {},
      "outputs": [],
      "source": [
        "ag_nan"
      ]
    },
    {
      "cell_type": "code",
      "execution_count": null,
      "metadata": {},
      "outputs": [],
      "source": [
        "ag_nan.info()"
      ]
    },
    {
      "cell_type": "code",
      "execution_count": 24,
      "metadata": {},
      "outputs": [],
      "source": [
        "ag_nan = ag_nan.astype(int)"
      ]
    },
    {
      "cell_type": "code",
      "execution_count": null,
      "metadata": {},
      "outputs": [],
      "source": [
        "ag_nan.info()"
      ]
    },
    {
      "cell_type": "code",
      "execution_count": null,
      "metadata": {},
      "outputs": [],
      "source": [
        "ag_nan"
      ]
    },
    {
      "cell_type": "code",
      "execution_count": 27,
      "metadata": {},
      "outputs": [],
      "source": [
        "base['AG'] = base['AG'].fillna(0)"
      ]
    },
    {
      "cell_type": "code",
      "execution_count": null,
      "metadata": {},
      "outputs": [],
      "source": [
        "base['AG']"
      ]
    },
    {
      "cell_type": "code",
      "execution_count": null,
      "metadata": {},
      "outputs": [],
      "source": [
        "base['AG'] = base['AG'].astype(int)\n",
        "base['AG']"
      ]
    },
    {
      "cell_type": "code",
      "execution_count": null,
      "metadata": {},
      "outputs": [],
      "source": [
        "base.info()"
      ]
    },
    {
      "cell_type": "code",
      "execution_count": 33,
      "metadata": {},
      "outputs": [],
      "source": [
        "base_s_nam = base.fillna(0)"
      ]
    },
    {
      "cell_type": "code",
      "execution_count": null,
      "metadata": {},
      "outputs": [],
      "source": [
        "base_s_nam"
      ]
    },
    {
      "cell_type": "code",
      "execution_count": 35,
      "metadata": {},
      "outputs": [],
      "source": [
        "base = base.fillna(0)"
      ]
    },
    {
      "cell_type": "code",
      "execution_count": null,
      "metadata": {},
      "outputs": [],
      "source": [
        "base.head()"
      ]
    },
    {
      "cell_type": "code",
      "execution_count": null,
      "metadata": {},
      "outputs": [],
      "source": [
        "base['OBSERVAÇÃO']"
      ]
    },
    {
      "cell_type": "code",
      "execution_count": 38,
      "metadata": {},
      "outputs": [],
      "source": [
        "def split_valor_parcela(row):\n",
        "    if isinstance(row, str):\n",
        "        parts = row.split('X R$ ')\n",
        "        if len(parts) == 2:\n",
        "            parcela, valor = parts\n",
        "            # Remover qualquer espaço adicional e caracteres não numéricos da parcela\n",
        "            parcela = parcela.split('/')[0].strip()  # Pega apenas o número antes da barra \"/\"\n",
        "            # Remover pontos do valor, para facilitar a conversão para float\n",
        "            valor = valor.replace('.', '').replace(',', '.').replace('R$', '').strip()\n",
        "            # Verificar se o valor é numérico após a limpeza\n",
        "            if valor.replace('.', '').replace(',', '').replace('R$', '').isdigit():\n",
        "                return pd.Series([parcela, float(valor)])\n",
        "    return pd.Series([None, None])"
      ]
    },
    {
      "cell_type": "code",
      "execution_count": 37,
      "metadata": {},
      "outputs": [],
      "source": [
        "base[['']] = base[''].apply(split_valor_parcela)"
      ]
    },
    {
      "cell_type": "code",
      "execution_count": null,
      "metadata": {},
      "outputs": [],
      "source": [
        "print(base[['']].head())"
      ]
    },
    {
      "cell_type": "code",
      "execution_count": null,
      "metadata": {},
      "outputs": [],
      "source": [
        "base.head()"
      ]
    },
    {
      "cell_type": "code",
      "execution_count": 102,
      "metadata": {},
      "outputs": [],
      "source": [
        "base = base.fillna(0)"
      ]
    },
    {
      "cell_type": "code",
      "execution_count": null,
      "metadata": {},
      "outputs": [],
      "source": [
        "base.CAR"
      ]
    },
    {
      "cell_type": "code",
      "execution_count": 42,
      "metadata": {},
      "outputs": [],
      "source": [
        "import fdb\n",
        "\n",
        "host = ''\n",
        "database = ''\n",
        "user = ''\n",
        "password = ''"
      ]
    },
    {
      "cell_type": "code",
      "execution_count": 43,
      "metadata": {},
      "outputs": [],
      "source": [
        "con = fdb.connect(\n",
        "    host=host,\n",
        "    database=database,\n",
        "    user=user,\n",
        "    password=password\n",
        ")"
      ]
    },
    {
      "cell_type": "code",
      "execution_count": null,
      "metadata": {},
      "outputs": [],
      "source": [
        "base_filtered = base.drop([3, 757, 751,92,92])\n",
        "base_filtered"
      ]
    },
    {
      "cell_type": "code",
      "execution_count": null,
      "metadata": {},
      "outputs": [],
      "source": [
        "valores_inclusão = base_filtered[['']]\n",
        "valores_inclusão"
      ]
    },
    {
      "cell_type": "code",
      "execution_count": null,
      "metadata": {},
      "outputs": [],
      "source": [
        "base2 = pd.read_excel('base.xlsx', engine='openpyxl') \n",
        "base2"
      ]
    },
    {
      "cell_type": "code",
      "execution_count": null,
      "metadata": {},
      "outputs": [],
      "source": [
        "base [''] = base2[''].astype(int)\n",
        "base.info()"
      ]
    },
    {
      "cell_type": "code",
      "execution_count": null,
      "metadata": {},
      "outputs": [],
      "source": [
        "base_filtered = base[base['IDUSER'] != 123]\n",
        "base_filtered"
      ]
    },
    {
      "cell_type": "code",
      "execution_count": 99,
      "metadata": {},
      "outputs": [],
      "source": [
        "cur = con.cursor()\n",
        "for index, row in valores_inclusão.iterrows():\n",
        "    cur.execute(\"INSERT INTO () VALUES (?, ?, ?, ?, ?, ?, ?, ?, ?)\",\n",
        "                (row[''], row[''], row[''], row[''], row[''], row[''], row[''], row[''], row['']))"
      ]
    },
    {
      "cell_type": "code",
      "execution_count": 101,
      "metadata": {},
      "outputs": [],
      "source": [
        "con.commit()"
      ]
    },
    {
      "cell_type": "code",
      "execution_count": null,
      "metadata": {},
      "outputs": [],
      "source": [
        "cur.execute(\"SELECT * FROM\")\n",
        "for row in cur.fetchall():\n",
        "    print(row)"
      ]
    },
    {
      "cell_type": "code",
      "execution_count": null,
      "metadata": {},
      "outputs": [],
      "source": [
        "base"
      ]
    },
    {
      "cell_type": "code",
      "execution_count": null,
      "metadata": {},
      "outputs": [],
      "source": [
        "base_suja = pd.read_excel('base.xlsx', engine='openpyxl')\n",
        "base_suja['']"
      ]
    },
    {
      "cell_type": "code",
      "execution_count": 141,
      "metadata": {},
      "outputs": [],
      "source": [
        "def split_valor_parcela2(row):\n",
        "    if isinstance(row, str):\n",
        "        parts = row.split('X R$ ')\n",
        "        if len(parts) == 2:\n",
        "            parcela, valor = parts\n",
        "            # Remover qualquer espaço adicional e caracteres não numéricos da parcela\n",
        "            parcela_parts = parcela.split('/')\n",
        "            if len(parcela_parts) >= 2:\n",
        "                parcela_numero = parcela_parts[0].strip()  # Pega apenas o número antes da barra \"/\"\n",
        "                parcela_pos_barra = parcela_parts[1].strip()  # Pega apenas o número após a barra \"/\"\n",
        "                # Remover pontos do valor, para facilitar a conversão para float\n",
        "                valor = valor.replace('.', '').replace(',', '.').replace('R$', '').strip()\n",
        "                # Verificar se o valor é numérico após a limpeza\n",
        "                if valor.replace('.', '').replace(',', '').replace('R$', '').isdigit():\n",
        "                    return pd.Series([parcela_numero, float(valor), parcela_pos_barra])\n",
        "            elif 'X' in parcela:\n",
        "                parcela_parts = parcela.split('X')\n",
        "                if len(parcela_parts) == 2:\n",
        "                    parcela_numero = parcela_parts[0].strip()  # Pega apenas o número antes do X\n",
        "                    parcela_pos_barra = parcela_parts[1].strip()  # Pega a parte após o X\n",
        "                    # Remover pontos do valor, para facilitar a conversão para float\n",
        "                    valor = valor.replace('.', '').replace(',', '.').replace('R$', '').strip()\n",
        "                    # Verificar se o valor é numérico após a limpeza\n",
        "                    if valor.replace('.', '').replace(',', '').replace('R$', '').isdigit():\n",
        "                        return pd.Series([parcela_numero, float(valor), parcela_pos_barra])\n",
        "    return pd.Series([None, None, None])"
      ]
    },
    {
      "cell_type": "code",
      "execution_count": null,
      "metadata": {},
      "outputs": [],
      "source": [
        "base_suja[['']] = base_suja[''].apply(split_valor_parcela2)\n",
        "base_suja.fillna(0)"
      ]
    },
    {
      "cell_type": "code",
      "execution_count": 155,
      "metadata": {},
      "outputs": [],
      "source": [
        "base_suja_filtered = base_suja[base_suja[''] != 123]\n",
        "base_suja = base_suja_filtered.fillna(0)"
      ]
    },
    {
      "cell_type": "code",
      "execution_count": 160,
      "metadata": {},
      "outputs": [],
      "source": [
        "base_suja.to_excel('base_updated.xlsx', engine='openpyxl')"
      ]
    },
    {
      "cell_type": "code",
      "execution_count": null,
      "metadata": {},
      "outputs": [],
      "source": [
        "for index, row in valores_inclusão.iterrows():\n",
        "    cur.execute(\"INSERT INTO () VALUES (?, ?, ?, ?, ?, ?, ?, ?, ?)\",\n",
        "                (row[''], row[''], row[''], row[''], row[''], row[''], row[''], row[''], row['']))"
      ]
    }
  ],
  "metadata": {
    "colab": {
      "provenance": []
    },
    "kernelspec": {
      "display_name": "Python 3 (ipykernel)",
      "language": "python",
      "name": "python3"
    },
    "language_info": {
      "codemirror_mode": {
        "name": "ipython",
        "version": 3
      },
      "file_extension": ".py",
      "mimetype": "text/x-python",
      "name": "python",
      "nbconvert_exporter": "python",
      "pygments_lexer": "ipython3",
      "version": "3.12.4"
    }
  },
  "nbformat": 4,
  "nbformat_minor": 0
}
